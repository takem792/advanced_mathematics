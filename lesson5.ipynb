{
 "cells": [
  {
   "cell_type": "code",
   "execution_count": 465,
   "metadata": {},
   "outputs": [],
   "source": [
    "import numpy as np\n",
    "import random as r\n",
    "import time\n",
    "import matplotlib.pyplot as plt\n",
    "from math import factorial\n",
    "import itertools as IT"
   ]
  },
  {
   "cell_type": "code",
   "execution_count": 395,
   "metadata": {},
   "outputs": [],
   "source": [
    "def combinations(n, k):\n",
    "    return int(factorial(n) / (factorial(k) * factorial(n - k)))"
   ]
  },
  {
   "cell_type": "markdown",
   "metadata": {},
   "source": [
    "### Задание 1\n",
    "Напишите код, моделирующий выпадение поля в рулетке (с учетом поля зеро)."
   ]
  },
  {
   "cell_type": "code",
   "execution_count": 140,
   "metadata": {},
   "outputs": [],
   "source": [
    "def roll_roulette():\n",
    "    num_list = ([0, 'green'], [32, 'red'],[15, 'black'],[19, 'red'],[4, 'black'],[21, 'red'],[2, 'black'],[25, 'red'],[17, 'black'],[34, 'red'],[6, 'black'],[27, 'red'],[13, 'black'],[36, 'red'],[11, 'black'],[30, 'red'],[8, 'black'],[23, 'red'],[10, 'black'],[5, 'red'],[24, 'black'],[16, 'red'],[33, 'black'],[1, 'red'],[20, 'black'],[14, 'red'],[31, 'black'],[9, 'red'],[22, 'black'],[18, 'red'],[29, 'black'],[7, 'red'],[28, 'black'],[12, 'red'],[35, 'black'],[3, 'red'],[26, 'black']) \n",
    "    for i in range (10):\n",
    "        roll = num_list[r.randint(0,len(num_list) - 1)]\n",
    "        print (\"* скачет шарик - \", roll[0], roll[1], end=\"\\r\")\n",
    "        time.sleep(i/10)\n",
    "        print('                                                                     ', end=\"\\r\")\n",
    "    print('                                                                     ', end=\"\\r\")\n",
    "    print (\"И выпадает:\", roll[0], roll[1], end=\"\\r\")\n",
    "    return roll"
   ]
  },
  {
   "cell_type": "code",
   "execution_count": 145,
   "metadata": {},
   "outputs": [
    {
     "name": "stdout",
     "output_type": "stream",
     "text": [
      "И выпадает: 19 red                                                   \r"
     ]
    },
    {
     "data": {
      "text/plain": [
       "[19, 'red']"
      ]
     },
     "execution_count": 145,
     "metadata": {},
     "output_type": "execute_result"
    }
   ],
   "source": [
    "roll_roulette()"
   ]
  },
  {
   "cell_type": "markdown",
   "metadata": {},
   "source": [
    "### Задание 2\n",
    "#1) Напишите код, проверяющий любую из теорем сложения или умножения вероятности на примере рулетки или подбрасывания монетки."
   ]
  },
  {
   "cell_type": "code",
   "execution_count": 218,
   "metadata": {},
   "outputs": [
    {
     "name": "stdout",
     "output_type": "stream",
     "text": [
      "Р(А) + Р(В)  =  1\n",
      "Орел -  0.517 Решка -  0.483 Итого -  1.0\n"
     ]
    }
   ],
   "source": [
    "heads = 0\n",
    "tails = 0\n",
    "n = 1000\n",
    "for i in range(n):\n",
    "    x = r.randint(0,1)\n",
    "    if x == 0:\n",
    "        heads +=1\n",
    "    else:\n",
    "        tails +=1\n",
    "print('Р(А) + Р(В)  =  1')\n",
    "print('Орел - ', heads/n, 'Решка - ', tails/n, 'Итого - ', heads/n + tails/n)\n"
   ]
  },
  {
   "cell_type": "markdown",
   "metadata": {},
   "source": [
    "#2) Сгенерируйте десять выборок случайных чисел х0, …, х9. и постройте гистограмму распределения случайной суммы х0+х1+ …+ х9."
   ]
  },
  {
   "cell_type": "code",
   "execution_count": 376,
   "metadata": {},
   "outputs": [
    {
     "data": {
      "image/png": "[encoded data removed]",
      "text/plain": [
       "<Figure size 432x288 with 1 Axes>"
      ]
     },
     "metadata": {
      "needs_background": "light"
     },
     "output_type": "display_data"
    }
   ],
   "source": [
    "ll = []\n",
    "for i in range(10):\n",
    "    l = np.random.randint(0,10,10)\n",
    "    ll.append(l.sum())\n",
    "y = np.array(ll)\n",
    "plt.hist(y, 10)\n",
    "plt.plot([y.mean(), y.mean()], [0, 3])\n",
    "plt.show()"
   ]
  },
  {
   "cell_type": "code",
   "execution_count": 373,
   "metadata": {},
   "outputs": [
    {
     "data": {
      "image/png": "[encoded data removed]",
      "text/plain": [
       "<Figure size 432x288 with 1 Axes>"
      ]
     },
     "metadata": {
      "needs_background": "light"
     },
     "output_type": "display_data"
    }
   ],
   "source": [
    "ll = []\n",
    "for i in range(100000):\n",
    "    l = np.random.randint(0,10,10)\n",
    "    ll.append(l.sum())\n",
    "y = np.array(ll)\n",
    "plt.hist(y, 90)\n",
    "plt.plot([y.mean(), y.mean()], [0, 4500])\n",
    "plt.show()"
   ]
  },
  {
   "cell_type": "markdown",
   "metadata": {},
   "source": [
    "### Задание 3\n",
    "#1, 2) Дополните код Монте-Карло последовательности независимых испытаний расчетом соответствующих вероятностей (через биномиальное распределение) и сравните результаты."
   ]
  },
  {
   "cell_type": "markdown",
   "metadata": {},
   "source": [
    "не понял задания. Сделал сразу для n и k проверку\n",
    "#проверил, что в результате эксперимента выбрасывания key раз орла в n_roll подбрасываний для n_iteration испытаний вероятность этого события Pm_с совпадает с расчетной вероятностью Ph_с через биномиальное распределение."
   ]
  },
  {
   "cell_type": "code",
   "execution_count": 464,
   "metadata": {},
   "outputs": [
    {
     "data": {
      "text/plain": [
       "[[508, 0.022541, 0.022197],\n",
       " [490, 0.020708, 0.020656],\n",
       " [486, 0.016998, 0.01705],\n",
       " [506, 0.023428, 0.023474],\n",
       " [482, 0.013254, 0.013202],\n",
       " [497, 0.024648, 0.024775],\n",
       " [477, 0.008819, 0.008763],\n",
       " [504, 0.024574, 0.024431],\n",
       " [481, 0.01225, 0.012261],\n",
       " [551, 0.000151, 0.000138],\n",
       " [496, 0.024554, 0.024431],\n",
       " [489, 0.019894, 0.019807],\n",
       " [502, 0.025074, 0.025024],\n",
       " [480, 0.011219, 0.011341],\n",
       " [468, 0.003113, 0.003256],\n",
       " [484, 0.015157, 0.015124],\n",
       " [516, 0.015023, 0.015124],\n",
       " [499, 0.025211, 0.025175],\n",
       " [462, 0.001379, 0.001405],\n",
       " [520, 0.01141, 0.011341],\n",
       " [505, 0.024085, 0.023996],\n",
       " [503, 0.025056, 0.024775],\n",
       " [509, 0.021456, 0.021456],\n",
       " [487, 0.017873, 0.017996],\n",
       " [485, 0.015933, 0.01609],\n",
       " [513, 0.018015, 0.017996],\n",
       " [491, 0.021379, 0.021456],\n",
       " [488, 0.018909, 0.018918],\n",
       " [475, 0.00718, 0.007232],\n",
       " [495, 0.024063, 0.023996],\n",
       " [517, 0.014179, 0.014158],\n",
       " [511, 0.019943, 0.019807],\n",
       " [510, 0.020616, 0.020656],\n",
       " [519, 0.012255, 0.012261],\n",
       " [463, 0.00163, 0.001632],\n",
       " [527, 0.005941, 0.005874],\n",
       " [514, 0.017099, 0.01705],\n",
       " [492, 0.022333, 0.022197],\n",
       " [467, 0.00285, 0.002859],\n",
       " [500, 0.025195, 0.025225],\n",
       " [515, 0.016155, 0.01609],\n",
       " [507, 0.022912, 0.022872],\n",
       " [456, 0.000572, 0.000525],\n",
       " [493, 0.022664, 0.022872],\n",
       " [474, 0.006551, 0.006531],\n",
       " [530, 0.004224, 0.004173],\n",
       " [523, 0.00867, 0.008763],\n",
       " [501, 0.024929, 0.025175],\n",
       " [483, 0.013963, 0.014158],\n",
       " [466, 0.002514, 0.0025],\n",
       " [512, 0.019081, 0.018918],\n",
       " [526, 0.006466, 0.006531],\n",
       " [472, 0.005257, 0.005262],\n",
       " [469, 0.003706, 0.003693],\n",
       " [531, 0.003749, 0.003693],\n",
       " [521, 0.010364, 0.010449],\n",
       " [471, 0.004694, 0.004695],\n",
       " [522, 0.00947, 0.009588],\n",
       " [532, 0.003197, 0.003256],\n",
       " [479, 0.010419, 0.010449],\n",
       " [473, 0.005739, 0.005874],\n",
       " [461, 0.001177, 0.001204],\n",
       " [518, 0.013064, 0.013202],\n",
       " [459, 0.000843, 0.000874],\n",
       " [494, 0.023425, 0.023474],\n",
       " [524, 0.007908, 0.007977],\n",
       " [525, 0.007267, 0.007232],\n",
       " [546, 0.000352, 0.000366],\n",
       " [498, 0.025164, 0.025024],\n",
       " [534, 0.002446, 0.0025],\n",
       " [529, 0.004901, 0.004695],\n",
       " [539, 0.001164, 0.001204],\n",
       " [536, 0.001889, 0.001889],\n",
       " [478, 0.009598, 0.009588],\n",
       " [528, 0.005299, 0.005262],\n",
       " [535, 0.002276, 0.002178],\n",
       " [533, 0.002908, 0.002859],\n",
       " [476, 0.007816, 0.007977],\n",
       " [470, 0.004054, 0.004173],\n",
       " [464, 0.001885, 0.001889],\n",
       " [547, 0.000319, 0.000304],\n",
       " [537, 0.001723, 0.001632],\n",
       " [541, 0.00088, 0.000874],\n",
       " [460, 0.001064, 0.001028],\n",
       " [543, 0.000632, 0.000624],\n",
       " [457, 0.000637, 0.000624],\n",
       " [538, 0.001394, 0.001405],\n",
       " [455, 0.000428, 0.000439],\n",
       " [542, 0.00076, 0.00074],\n",
       " [465, 0.002154, 0.002178],\n",
       " [544, 0.000522, 0.000525],\n",
       " [444, 4.8e-05, 4.7e-05],\n",
       " [449, 0.000146, 0.000138],\n",
       " [550, 0.000182, 0.000169],\n",
       " [448, 0.000103, 0.000113],\n",
       " [458, 0.000741, 0.00074],\n",
       " [451, 0.000196, 0.000207],\n",
       " [450, 0.000173, 0.000169],\n",
       " [540, 0.001041, 0.001028],\n",
       " [454, 0.000337, 0.000366],\n",
       " [442, 2.6e-05, 3e-05],\n",
       " [545, 0.000424, 0.000439],\n",
       " [447, 9.2e-05, 9.1e-05],\n",
       " [548, 0.000267, 0.000251],\n",
       " [554, 6.4e-05, 7.4e-05],\n",
       " [573, 1e-06, 1e-06],\n",
       " [453, 0.000297, 0.000304],\n",
       " [452, 0.000253, 0.000251],\n",
       " [549, 0.000216, 0.000207],\n",
       " [560, 1.6e-05, 1.9e-05],\n",
       " [558, 3.3e-05, 3e-05],\n",
       " [443, 3.2e-05, 3.8e-05],\n",
       " [445, 6.1e-05, 5.9e-05],\n",
       " [557, 3.1e-05, 3.8e-05],\n",
       " [552, 0.000117, 0.000113],\n",
       " [559, 1.9e-05, 2.4e-05],\n",
       " [555, 6.4e-05, 5.9e-05],\n",
       " [553, 0.000102, 9.1e-05],\n",
       " [431, 2e-06, 2e-06],\n",
       " [578, 1e-06, 0.0],\n",
       " [446, 7.5e-05, 7.4e-05],\n",
       " [568, 4e-06, 2e-06],\n",
       " [434, 5e-06, 4e-06],\n",
       " [556, 4.4e-05, 4.7e-05],\n",
       " [441, 2e-05, 2.4e-05],\n",
       " [429, 2e-06, 1e-06],\n",
       " [440, 2.2e-05, 1.9e-05],\n",
       " [437, 8e-06, 9e-06],\n",
       " [436, 5e-06, 7e-06],\n",
       " [433, 3e-06, 3e-06],\n",
       " [438, 5e-06, 1.1e-05],\n",
       " [439, 1.1e-05, 1.5e-05],\n",
       " [422, 1e-06, 0.0],\n",
       " [561, 1.9e-05, 1.5e-05],\n",
       " [563, 1e-05, 9e-06],\n",
       " [565, 6e-06, 5e-06],\n",
       " [572, 2e-06, 1e-06],\n",
       " [562, 1e-05, 1.1e-05],\n",
       " [435, 3e-06, 5e-06],\n",
       " [564, 4e-06, 7e-06],\n",
       " [566, 1e-06, 4e-06],\n",
       " [567, 5e-06, 3e-06],\n",
       " [575, 1e-06, 0.0],\n",
       " [432, 2e-06, 2e-06],\n",
       " [576, 1e-06, 0.0],\n",
       " [569, 2e-06, 2e-06],\n",
       " [430, 1e-06, 1e-06],\n",
       " [571, 2e-06, 1e-06],\n",
       " [570, 1e-06, 1e-06]]"
      ]
     },
     "execution_count": 464,
     "metadata": {},
     "output_type": "execute_result"
    }
   ],
   "source": [
    "n_roll = 1000\n",
    "n_iteration = 1000000\n",
    "dic_rez = {}\n",
    "rez = []\n",
    "for i in range(n_iteration):\n",
    "    x = np.random.randint(0,2,n_roll)\n",
    "    k = x.sum()\n",
    "    if k in dic_rez:\n",
    "        dic_rez[k] +=1\n",
    "    else:\n",
    "        dic_rez[k] = 1\n",
    "for key in dic_rez:\n",
    "    Pm_с = dic_rez[key]/n_iteration\n",
    "    Ph_с = round(combinations(n_roll, key)*pow(0.5, key)*pow(0.5, n_roll - key), 6)\n",
    "    rez.append([key, Pm_с, Ph_с])\n",
    "rez"
   ]
  },
  {
   "cell_type": "markdown",
   "metadata": {},
   "source": [
    "### Задание 4\n",
    "Из урока по комбинаторике повторите расчеты, сгенерировав возможные варианты перестановок для других значений n и k"
   ]
  },
  {
   "cell_type": "code",
   "execution_count": 489,
   "metadata": {},
   "outputs": [
    {
     "data": {
      "text/plain": [
       "(120, 120.0)"
      ]
     },
     "execution_count": 489,
     "metadata": {},
     "output_type": "execute_result"
    }
   ],
   "source": [
    "n = 6\n",
    "k = 3\n",
    "l = ['a' for x in range(n)]\n",
    "permutations_count = 0\n",
    "for p in IT.permutations(l, k):\n",
    "    permutations_count += 1\n",
    "permutations_count_calc = factorial(n)/ (factorial(n - k))\n",
    "permutations_count, permutations_count_calc"
   ]
  },
  {
   "cell_type": "markdown",
   "metadata": {},
   "source": [
    "### Задание 5\n",
    "Дополните код расчетом коэффициента корреляции x и y по формуле"
   ]
  },
  {
   "cell_type": "code",
   "execution_count": 510,
   "metadata": {},
   "outputs": [
    {
     "data": {
      "image/png": "[encoded data removed]",
      "text/plain": [
       "<Figure size 432x288 with 1 Axes>"
      ]
     },
     "metadata": {
      "needs_background": "light"
     },
     "output_type": "display_data"
    },
    {
     "data": {
      "text/plain": [
       "0.18353452152407077"
      ]
     },
     "execution_count": 510,
     "metadata": {},
     "output_type": "execute_result"
    }
   ],
   "source": [
    "x = np.random.randint(0,100,10)\n",
    "y = np.random.randint(0,100,10)\n",
    "R = ((x-x.mean())*(y-y.mean())).sum()/pow(pow((x-x.mean()),2).sum()*pow((y-y.mean()),2).sum(), 0.5)\n",
    "plt.scatter(x, y)\n",
    "plt.show()\n",
    "R"
   ]
  }
 ],
 "metadata": {
  "kernelspec": {
   "display_name": "Python 3",
   "language": "python",
   "name": "python3"
  },
  "language_info": {
   "codemirror_mode": {
    "name": "ipython",
    "version": 3
   },
   "file_extension": ".py",
   "mimetype": "text/x-python",
   "name": "python",
   "nbconvert_exporter": "python",
   "pygments_lexer": "ipython3",
   "version": "3.7.3"
  }
 },
 "nbformat": 4,
 "nbformat_minor": 2
}
